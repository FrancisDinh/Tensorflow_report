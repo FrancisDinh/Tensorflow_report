{
  "nbformat": 4,
  "nbformat_minor": 0,
  "metadata": {
    "accelerator": "GPU",
    "colab": {
      "name": "Course 3 - Week 2 - Lesson 2.ipynb",
      "provenance": [],
      "collapsed_sections": [],
      "toc_visible": true
    },
    "kernelspec": {
      "display_name": "Python 3",
      "name": "python3"
    }
  },
  "cells": [
    {
      "cell_type": "code",
      "metadata": {
        "id": "zX4Kg8DUTKWO"
      },
      "source": [
        "#@title Licensed under the Apache License, Version 2.0 (the \"License\");\n",
        "# you may not use this file except in compliance with the License.\n",
        "# You may obtain a copy of the License at\n",
        "#\n",
        "# https://www.apache.org/licenses/LICENSE-2.0\n",
        "#\n",
        "# Unless required by applicable law or agreed to in writing, software\n",
        "# distributed under the License is distributed on an \"AS IS\" BASIS,\n",
        "# WITHOUT WARRANTIES OR CONDITIONS OF ANY KIND, either express or implied.\n",
        "# See the License for the specific language governing permissions and\n",
        "# limitations under the License."
      ],
      "execution_count": null,
      "outputs": []
    },
    {
      "cell_type": "markdown",
      "metadata": {
        "id": "view-in-github"
      },
      "source": [
        "<a href=\"https://colab.research.google.com/github/lmoroney/dlaicourse/blob/master/TensorFlow%20In%20Practice/Course%203%20-%20NLP/Course%203%20-%20Week%202%20-%20Lesson%202.ipynb\" target=\"_parent\"><img src=\"https://colab.research.google.com/assets/colab-badge.svg\" alt=\"Open In Colab\"/></a>"
      ]
    },
    {
      "cell_type": "code",
      "metadata": {
        "id": "4gs9htvM7n_x"
      },
      "source": [
        "# Run this to ensure TensorFlow 2.x is used\n",
        "try:\n",
        "  # %tensorflow_version only exists in Colab.\n",
        "  %tensorflow_version 2.x\n",
        "except Exception:\n",
        "  pass"
      ],
      "execution_count": 1,
      "outputs": []
    },
    {
      "cell_type": "code",
      "metadata": {
        "id": "XYYDvoskkE61"
      },
      "source": [
        "import json\n",
        "import tensorflow as tf\n",
        "\n",
        "from tensorflow.keras.preprocessing.text import Tokenizer\n",
        "from tensorflow.keras.preprocessing.sequence import pad_sequences"
      ],
      "execution_count": 2,
      "outputs": []
    },
    {
      "cell_type": "code",
      "metadata": {
        "id": "0eJSTTYnkJQd"
      },
      "source": [
        "vocab_size = 10000\n",
        "embedding_dim = 16\n",
        "max_length = 100\n",
        "trunc_type='post'\n",
        "padding_type='post'\n",
        "oov_tok = \"<OOV>\"\n",
        "training_size = 20000\n"
      ],
      "execution_count": 3,
      "outputs": []
    },
    {
      "cell_type": "code",
      "metadata": {
        "colab": {
          "base_uri": "https://localhost:8080/"
        },
        "id": "BQVuQrZNkPn9",
        "outputId": "83ffa342-f65e-4d3c-e406-ad1daf2e85a9"
      },
      "source": [
        "!wget --no-check-certificate \\\n",
        "    https://storage.googleapis.com/laurencemoroney-blog.appspot.com/sarcasm.json \\\n",
        "    -O /tmp/sarcasm.json\n"
      ],
      "execution_count": 4,
      "outputs": [
        {
          "output_type": "stream",
          "text": [
            "--2021-04-13 15:26:35--  https://storage.googleapis.com/laurencemoroney-blog.appspot.com/sarcasm.json\n",
            "Resolving storage.googleapis.com (storage.googleapis.com)... 172.253.63.128, 172.217.7.240, 172.217.13.240, ...\n",
            "Connecting to storage.googleapis.com (storage.googleapis.com)|172.253.63.128|:443... connected.\n",
            "HTTP request sent, awaiting response... 200 OK\n",
            "Length: 5643545 (5.4M) [application/json]\n",
            "Saving to: ‘/tmp/sarcasm.json’\n",
            "\n",
            "/tmp/sarcasm.json   100%[===================>]   5.38M  --.-KB/s    in 0.05s   \n",
            "\n",
            "2021-04-13 15:26:35 (107 MB/s) - ‘/tmp/sarcasm.json’ saved [5643545/5643545]\n",
            "\n"
          ],
          "name": "stdout"
        }
      ]
    },
    {
      "cell_type": "code",
      "metadata": {
        "id": "oaLaaqhNkUPd"
      },
      "source": [
        "with open(\"/tmp/sarcasm.json\", 'r') as f:\n",
        "    datastore = json.load(f)\n",
        "\n",
        "sentences = []\n",
        "labels = []\n",
        "\n",
        "for item in datastore:\n",
        "    sentences.append(item['headline'])\n",
        "    labels.append(item['is_sarcastic'])"
      ],
      "execution_count": 5,
      "outputs": []
    },
    {
      "cell_type": "code",
      "metadata": {
        "id": "S1sD-7v0kYWk"
      },
      "source": [
        "training_sentences = sentences[0:training_size]\n",
        "testing_sentences = sentences[training_size:]\n",
        "training_labels = labels[0:training_size]\n",
        "testing_labels = labels[training_size:]"
      ],
      "execution_count": 6,
      "outputs": []
    },
    {
      "cell_type": "code",
      "metadata": {
        "id": "3u8UB0MCkZ5N"
      },
      "source": [
        "tokenizer = Tokenizer(num_words=vocab_size, oov_token=oov_tok)\n",
        "tokenizer.fit_on_texts(training_sentences)\n",
        "\n",
        "word_index = tokenizer.word_index\n",
        "\n",
        "training_sequences = tokenizer.texts_to_sequences(training_sentences)\n",
        "training_padded = pad_sequences(training_sequences, maxlen=max_length, padding=padding_type, truncating=trunc_type)\n",
        "\n",
        "testing_sequences = tokenizer.texts_to_sequences(testing_sentences)\n",
        "testing_padded = pad_sequences(testing_sequences, maxlen=max_length, padding=padding_type, truncating=trunc_type)"
      ],
      "execution_count": 7,
      "outputs": []
    },
    {
      "cell_type": "code",
      "metadata": {
        "id": "2yQI5bhD2BjK",
        "outputId": "c08ddd8a-556f-4edc-942c-2827dad6ed4d",
        "colab": {
          "base_uri": "https://localhost:8080/"
        }
      },
      "source": [
        "type(training_padded)"
      ],
      "execution_count": 9,
      "outputs": [
        {
          "output_type": "execute_result",
          "data": {
            "text/plain": [
              "numpy.ndarray"
            ]
          },
          "metadata": {
            "tags": []
          },
          "execution_count": 9
        }
      ]
    },
    {
      "cell_type": "code",
      "metadata": {
        "id": "GrAlWBKf99Ya"
      },
      "source": [
        "# Need this block to get it to work with TensorFlow 2.x\n",
        "import numpy as np\n",
        "training_padded = np.array(training_padded)\n",
        "training_labels = np.array(training_labels)\n",
        "testing_padded = np.array(testing_padded)\n",
        "testing_labels = np.array(testing_labels)"
      ],
      "execution_count": 10,
      "outputs": []
    },
    {
      "cell_type": "code",
      "metadata": {
        "id": "FufaT4vlkiDE"
      },
      "source": [
        "model = tf.keras.Sequential([\n",
        "    tf.keras.layers.Embedding(vocab_size, embedding_dim, input_length=max_length),\n",
        "    tf.keras.layers.GlobalAveragePooling1D(),\n",
        "    tf.keras.layers.Dense(24, activation='relu'),\n",
        "    tf.keras.layers.Dense(1, activation='sigmoid')\n",
        "])\n",
        "model.compile(loss='binary_crossentropy',optimizer='adam',metrics=['accuracy'])"
      ],
      "execution_count": 11,
      "outputs": []
    },
    {
      "cell_type": "code",
      "metadata": {
        "colab": {
          "base_uri": "https://localhost:8080/"
        },
        "id": "XfDt1hmYkiys",
        "outputId": "284c3dd7-79ce-4989-bf13-8ebc7a60f210"
      },
      "source": [
        "model.summary()\n"
      ],
      "execution_count": 12,
      "outputs": [
        {
          "output_type": "stream",
          "text": [
            "Model: \"sequential\"\n",
            "_________________________________________________________________\n",
            "Layer (type)                 Output Shape              Param #   \n",
            "=================================================================\n",
            "embedding (Embedding)        (None, 100, 16)           160000    \n",
            "_________________________________________________________________\n",
            "global_average_pooling1d (Gl (None, 16)                0         \n",
            "_________________________________________________________________\n",
            "dense (Dense)                (None, 24)                408       \n",
            "_________________________________________________________________\n",
            "dense_1 (Dense)              (None, 1)                 25        \n",
            "=================================================================\n",
            "Total params: 160,433\n",
            "Trainable params: 160,433\n",
            "Non-trainable params: 0\n",
            "_________________________________________________________________\n"
          ],
          "name": "stdout"
        }
      ]
    },
    {
      "cell_type": "code",
      "metadata": {
        "colab": {
          "base_uri": "https://localhost:8080/"
        },
        "id": "2DTKQFf1kkyc",
        "outputId": "f99b90bc-3403-4575-c38e-4c67d8c1c2c4"
      },
      "source": [
        "num_epochs = 30\n",
        "history = model.fit(training_padded, training_labels, epochs=num_epochs, validation_data=(testing_padded, testing_labels), verbose=2)"
      ],
      "execution_count": 13,
      "outputs": [
        {
          "output_type": "stream",
          "text": [
            "Epoch 1/30\n",
            "625/625 - 6s - loss: 0.6676 - accuracy: 0.5852 - val_loss: 0.6043 - val_accuracy: 0.7031\n",
            "Epoch 2/30\n",
            "625/625 - 2s - loss: 0.4660 - accuracy: 0.8195 - val_loss: 0.4038 - val_accuracy: 0.8332\n",
            "Epoch 3/30\n",
            "625/625 - 2s - loss: 0.3283 - accuracy: 0.8716 - val_loss: 0.3577 - val_accuracy: 0.8517\n",
            "Epoch 4/30\n",
            "625/625 - 2s - loss: 0.2744 - accuracy: 0.8929 - val_loss: 0.3473 - val_accuracy: 0.8517\n",
            "Epoch 5/30\n",
            "625/625 - 2s - loss: 0.2374 - accuracy: 0.9090 - val_loss: 0.3399 - val_accuracy: 0.8553\n",
            "Epoch 6/30\n",
            "625/625 - 2s - loss: 0.2105 - accuracy: 0.9197 - val_loss: 0.3486 - val_accuracy: 0.8489\n",
            "Epoch 7/30\n",
            "625/625 - 2s - loss: 0.1864 - accuracy: 0.9302 - val_loss: 0.3558 - val_accuracy: 0.8514\n",
            "Epoch 8/30\n",
            "625/625 - 2s - loss: 0.1697 - accuracy: 0.9372 - val_loss: 0.3624 - val_accuracy: 0.8527\n",
            "Epoch 9/30\n",
            "625/625 - 2s - loss: 0.1523 - accuracy: 0.9434 - val_loss: 0.3751 - val_accuracy: 0.8556\n",
            "Epoch 10/30\n",
            "625/625 - 2s - loss: 0.1398 - accuracy: 0.9500 - val_loss: 0.3934 - val_accuracy: 0.8545\n",
            "Epoch 11/30\n",
            "625/625 - 2s - loss: 0.1257 - accuracy: 0.9553 - val_loss: 0.4131 - val_accuracy: 0.8493\n",
            "Epoch 12/30\n",
            "625/625 - 2s - loss: 0.1157 - accuracy: 0.9593 - val_loss: 0.4289 - val_accuracy: 0.8496\n",
            "Epoch 13/30\n",
            "625/625 - 2s - loss: 0.1073 - accuracy: 0.9631 - val_loss: 0.4533 - val_accuracy: 0.8453\n",
            "Epoch 14/30\n",
            "625/625 - 2s - loss: 0.0984 - accuracy: 0.9653 - val_loss: 0.4731 - val_accuracy: 0.8451\n",
            "Epoch 15/30\n",
            "625/625 - 2s - loss: 0.0884 - accuracy: 0.9711 - val_loss: 0.4962 - val_accuracy: 0.8423\n",
            "Epoch 16/30\n",
            "625/625 - 2s - loss: 0.0837 - accuracy: 0.9735 - val_loss: 0.5211 - val_accuracy: 0.8404\n",
            "Epoch 17/30\n",
            "625/625 - 2s - loss: 0.0770 - accuracy: 0.9752 - val_loss: 0.5469 - val_accuracy: 0.8384\n",
            "Epoch 18/30\n",
            "625/625 - 2s - loss: 0.0711 - accuracy: 0.9769 - val_loss: 0.5732 - val_accuracy: 0.8359\n",
            "Epoch 19/30\n",
            "625/625 - 2s - loss: 0.0639 - accuracy: 0.9807 - val_loss: 0.6015 - val_accuracy: 0.8335\n",
            "Epoch 20/30\n",
            "625/625 - 2s - loss: 0.0595 - accuracy: 0.9822 - val_loss: 0.6379 - val_accuracy: 0.8304\n",
            "Epoch 21/30\n",
            "625/625 - 2s - loss: 0.0551 - accuracy: 0.9832 - val_loss: 0.6608 - val_accuracy: 0.8296\n",
            "Epoch 22/30\n",
            "625/625 - 2s - loss: 0.0512 - accuracy: 0.9848 - val_loss: 0.7163 - val_accuracy: 0.8255\n",
            "Epoch 23/30\n",
            "625/625 - 2s - loss: 0.0471 - accuracy: 0.9858 - val_loss: 0.7252 - val_accuracy: 0.8286\n",
            "Epoch 24/30\n",
            "625/625 - 2s - loss: 0.0437 - accuracy: 0.9873 - val_loss: 0.7594 - val_accuracy: 0.8214\n",
            "Epoch 25/30\n",
            "625/625 - 2s - loss: 0.0414 - accuracy: 0.9877 - val_loss: 0.7905 - val_accuracy: 0.8205\n",
            "Epoch 26/30\n",
            "625/625 - 2s - loss: 0.0375 - accuracy: 0.9886 - val_loss: 0.8275 - val_accuracy: 0.8189\n",
            "Epoch 27/30\n",
            "625/625 - 2s - loss: 0.0355 - accuracy: 0.9900 - val_loss: 0.8578 - val_accuracy: 0.8183\n",
            "Epoch 28/30\n",
            "625/625 - 2s - loss: 0.0320 - accuracy: 0.9904 - val_loss: 0.8961 - val_accuracy: 0.8158\n",
            "Epoch 29/30\n",
            "625/625 - 2s - loss: 0.0305 - accuracy: 0.9913 - val_loss: 0.9398 - val_accuracy: 0.8159\n",
            "Epoch 30/30\n",
            "625/625 - 2s - loss: 0.0270 - accuracy: 0.9925 - val_loss: 0.9720 - val_accuracy: 0.8149\n"
          ],
          "name": "stdout"
        }
      ]
    },
    {
      "cell_type": "code",
      "metadata": {
        "colab": {
          "base_uri": "https://localhost:8080/",
          "height": 541
        },
        "id": "2HYfBKXjkmU8",
        "outputId": "3b256077-d32a-4dce-8ad6-d3299eaf65b0"
      },
      "source": [
        "import matplotlib.pyplot as plt\n",
        "\n",
        "\n",
        "def plot_graphs(history, string):\n",
        "  plt.plot(history.history[string])\n",
        "  plt.plot(history.history['val_'+string])\n",
        "  plt.xlabel(\"Epochs\")\n",
        "  plt.ylabel(string)\n",
        "  plt.legend([string, 'val_'+string])\n",
        "  plt.show()\n",
        "  \n",
        "plot_graphs(history, \"accuracy\")\n",
        "plot_graphs(history, \"loss\")"
      ],
      "execution_count": 14,
      "outputs": [
        {
          "output_type": "display_data",
          "data": {
            "image/png": "[encoded data removed]",
            "text/plain": [
              "<Figure size 432x288 with 1 Axes>"
            ]
          },
          "metadata": {
            "tags": [],
            "needs_background": "light"
          }
        },
        {
          "output_type": "display_data",
          "data": {
            "image/png": "[encoded data removed]",
            "text/plain": [
              "<Figure size 432x288 with 1 Axes>"
            ]
          },
          "metadata": {
            "tags": [],
            "needs_background": "light"
          }
        }
      ]
    },
    {
      "cell_type": "code",
      "metadata": {
        "id": "7SBdAZAenvzL"
      },
      "source": [
        "reverse_word_index = dict([(value, key) for (key, value) in word_index.items()])\n",
        "\n",
        "def decode_sentence(text):\n",
        "    return ' '.join([reverse_word_index.get(i, '?') for i in text])\n",
        "\n",
        "print(decode_sentence(training_padded[0]))\n",
        "print(training_sentences[2])\n",
        "print(labels[2])"
      ],
      "execution_count": null,
      "outputs": []
    },
    {
      "cell_type": "code",
      "metadata": {
        "id": "c9MqihtEkzQ9"
      },
      "source": [
        "e = model.layers[0]\n",
        "weights = e.get_weights()[0]\n",
        "print(weights.shape) # shape: (vocab_size, embedding_dim)\n"
      ],
      "execution_count": null,
      "outputs": []
    },
    {
      "cell_type": "code",
      "metadata": {
        "id": "LoBXVffknldU"
      },
      "source": [
        "import io\n",
        "\n",
        "out_v = io.open('vecs.tsv', 'w', encoding='utf-8')\n",
        "out_m = io.open('meta.tsv', 'w', encoding='utf-8')\n",
        "for word_num in range(1, vocab_size):\n",
        "  word = reverse_word_index[word_num]\n",
        "  embeddings = weights[word_num]\n",
        "  out_m.write(word + \"\\n\")\n",
        "  out_v.write('\\t'.join([str(x) for x in embeddings]) + \"\\n\")\n",
        "out_v.close()\n",
        "out_m.close()"
      ],
      "execution_count": null,
      "outputs": []
    },
    {
      "cell_type": "code",
      "metadata": {
        "id": "U4eZ5HtVnnEE"
      },
      "source": [
        "try:\n",
        "  from google.colab import files\n",
        "except ImportError:\n",
        "  pass\n",
        "else:\n",
        "  files.download('vecs.tsv')\n",
        "  files.download('meta.tsv')"
      ],
      "execution_count": null,
      "outputs": []
    },
    {
      "cell_type": "code",
      "metadata": {
        "id": "cG8-ArY-qDcz"
      },
      "source": [
        "sentence = [\"granny starting to fear spiders in the garden might be real\", \"game of thrones season finale showing this sunday night\"]\n",
        "sequences = tokenizer.texts_to_sequences(sentence)\n",
        "padded = pad_sequences(sequences, maxlen=max_length, padding=padding_type, truncating=trunc_type)\n",
        "print(model.predict(padded))"
      ],
      "execution_count": null,
      "outputs": []
    }
  ]
}